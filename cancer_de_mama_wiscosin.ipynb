{
 "cells": [
  {
   "cell_type": "code",
   "execution_count": 3,
   "source": [
    "%matplotlib inline\r\n",
    "import numpy as np\r\n",
    "import pandas as pd\r\n",
    "#import seaborn as sns\r\n",
    "#import statsmodels.api as sm\r\n",
    "from matplotlib import pyplot as plt\r\n",
    "from sci_analysis import analyze"
   ],
   "outputs": [],
   "metadata": {}
  },
  {
   "cell_type": "code",
   "execution_count": 28,
   "source": [
    "color = {1: 'darkturquoise', 2: 'indigo', 3: 'royalblue', 4: 'mediumorchid'}"
   ],
   "outputs": [],
   "metadata": {}
  },
  {
   "cell_type": "code",
   "execution_count": 60,
   "source": [
    "df_head = pd.read_fwf('dados/breast-cancer-wisconsin.names')"
   ],
   "outputs": [],
   "metadata": {}
  },
  {
   "cell_type": "code",
   "execution_count": 4,
   "source": [
    "df = pd.read_csv('dados/breast-cancer-wisconsin.csv', names=['ID','Clump_Thickness', 'Uniformity_of_Cell_Size', 'Uniformity_of_Cell_Shape', 'Marginal_Adhesion', \r\n",
    "                                                              'Single_Epithelial_CS', 'Bare_Nucl','Bland_Chromatin','Normal_Nuclei','Mitoses','Class'],\r\n",
    "                 )"
   ],
   "outputs": [],
   "metadata": {}
  },
  {
   "cell_type": "code",
   "execution_count": 62,
   "source": [
    "df.head()"
   ],
   "outputs": [
    {
     "output_type": "execute_result",
     "data": {
      "text/html": [
       "<div>\n",
       "<style scoped>\n",
       "    .dataframe tbody tr th:only-of-type {\n",
       "        vertical-align: middle;\n",
       "    }\n",
       "\n",
       "    .dataframe tbody tr th {\n",
       "        vertical-align: top;\n",
       "    }\n",
       "\n",
       "    .dataframe thead th {\n",
       "        text-align: right;\n",
       "    }\n",
       "</style>\n",
       "<table border=\"1\" class=\"dataframe\">\n",
       "  <thead>\n",
       "    <tr style=\"text-align: right;\">\n",
       "      <th></th>\n",
       "      <th>ID</th>\n",
       "      <th>Clump_Thickness</th>\n",
       "      <th>Uniformity_of_Cell_Size</th>\n",
       "      <th>Uniformity_of_Cell_Shape</th>\n",
       "      <th>Marginal_Adhesion</th>\n",
       "      <th>Single_Epithelial_CS</th>\n",
       "      <th>Bare_Nucl</th>\n",
       "      <th>Bland_Chromatin</th>\n",
       "      <th>Normal_Nuclei</th>\n",
       "      <th>Mitoses</th>\n",
       "      <th>Class</th>\n",
       "    </tr>\n",
       "  </thead>\n",
       "  <tbody>\n",
       "    <tr>\n",
       "      <th>0</th>\n",
       "      <td>1000025</td>\n",
       "      <td>5</td>\n",
       "      <td>1</td>\n",
       "      <td>1</td>\n",
       "      <td>1</td>\n",
       "      <td>2</td>\n",
       "      <td>1</td>\n",
       "      <td>3</td>\n",
       "      <td>1</td>\n",
       "      <td>1</td>\n",
       "      <td>2</td>\n",
       "    </tr>\n",
       "    <tr>\n",
       "      <th>1</th>\n",
       "      <td>1002945</td>\n",
       "      <td>5</td>\n",
       "      <td>4</td>\n",
       "      <td>4</td>\n",
       "      <td>5</td>\n",
       "      <td>7</td>\n",
       "      <td>10</td>\n",
       "      <td>3</td>\n",
       "      <td>2</td>\n",
       "      <td>1</td>\n",
       "      <td>2</td>\n",
       "    </tr>\n",
       "    <tr>\n",
       "      <th>2</th>\n",
       "      <td>1015425</td>\n",
       "      <td>3</td>\n",
       "      <td>1</td>\n",
       "      <td>1</td>\n",
       "      <td>1</td>\n",
       "      <td>2</td>\n",
       "      <td>2</td>\n",
       "      <td>3</td>\n",
       "      <td>1</td>\n",
       "      <td>1</td>\n",
       "      <td>2</td>\n",
       "    </tr>\n",
       "    <tr>\n",
       "      <th>3</th>\n",
       "      <td>1016277</td>\n",
       "      <td>6</td>\n",
       "      <td>8</td>\n",
       "      <td>8</td>\n",
       "      <td>1</td>\n",
       "      <td>3</td>\n",
       "      <td>4</td>\n",
       "      <td>3</td>\n",
       "      <td>7</td>\n",
       "      <td>1</td>\n",
       "      <td>2</td>\n",
       "    </tr>\n",
       "    <tr>\n",
       "      <th>4</th>\n",
       "      <td>1017023</td>\n",
       "      <td>4</td>\n",
       "      <td>1</td>\n",
       "      <td>1</td>\n",
       "      <td>3</td>\n",
       "      <td>2</td>\n",
       "      <td>1</td>\n",
       "      <td>3</td>\n",
       "      <td>1</td>\n",
       "      <td>1</td>\n",
       "      <td>2</td>\n",
       "    </tr>\n",
       "  </tbody>\n",
       "</table>\n",
       "</div>"
      ],
      "text/plain": [
       "        ID  Clump_Thickness  Uniformity_of_Cell_Size  \\\n",
       "0  1000025                5                        1   \n",
       "1  1002945                5                        4   \n",
       "2  1015425                3                        1   \n",
       "3  1016277                6                        8   \n",
       "4  1017023                4                        1   \n",
       "\n",
       "   Uniformity_of_Cell_Shape  Marginal_Adhesion  Single_Epithelial_CS  \\\n",
       "0                         1                  1                     2   \n",
       "1                         4                  5                     7   \n",
       "2                         1                  1                     2   \n",
       "3                         8                  1                     3   \n",
       "4                         1                  3                     2   \n",
       "\n",
       "  Bare_Nucl  Bland_Chromatin  Normal_Nuclei  Mitoses  Class  \n",
       "0         1                3              1        1      2  \n",
       "1        10                3              2        1      2  \n",
       "2         2                3              1        1      2  \n",
       "3         4                3              7        1      2  \n",
       "4         1                3              1        1      2  "
      ]
     },
     "metadata": {},
     "execution_count": 62
    }
   ],
   "metadata": {}
  },
  {
   "cell_type": "code",
   "execution_count": 5,
   "source": [
    "df.drop(['ID'], axis=1, inplace=True)"
   ],
   "outputs": [],
   "metadata": {}
  },
  {
   "cell_type": "code",
   "execution_count": 6,
   "source": [
    "df.describe(include='all')"
   ],
   "outputs": [
    {
     "output_type": "execute_result",
     "data": {
      "text/html": [
       "<div>\n",
       "<style scoped>\n",
       "    .dataframe tbody tr th:only-of-type {\n",
       "        vertical-align: middle;\n",
       "    }\n",
       "\n",
       "    .dataframe tbody tr th {\n",
       "        vertical-align: top;\n",
       "    }\n",
       "\n",
       "    .dataframe thead th {\n",
       "        text-align: right;\n",
       "    }\n",
       "</style>\n",
       "<table border=\"1\" class=\"dataframe\">\n",
       "  <thead>\n",
       "    <tr style=\"text-align: right;\">\n",
       "      <th></th>\n",
       "      <th>Clump_Thickness</th>\n",
       "      <th>Uniformity_of_Cell_Size</th>\n",
       "      <th>Uniformity_of_Cell_Shape</th>\n",
       "      <th>Marginal_Adhesion</th>\n",
       "      <th>Single_Epithelial_CS</th>\n",
       "      <th>Bare_Nucl</th>\n",
       "      <th>Bland_Chromatin</th>\n",
       "      <th>Normal_Nuclei</th>\n",
       "      <th>Mitoses</th>\n",
       "      <th>Class</th>\n",
       "    </tr>\n",
       "  </thead>\n",
       "  <tbody>\n",
       "    <tr>\n",
       "      <th>count</th>\n",
       "      <td>699.000000</td>\n",
       "      <td>699.000000</td>\n",
       "      <td>699.000000</td>\n",
       "      <td>699.000000</td>\n",
       "      <td>699.000000</td>\n",
       "      <td>699</td>\n",
       "      <td>699.000000</td>\n",
       "      <td>699.000000</td>\n",
       "      <td>699.000000</td>\n",
       "      <td>699.000000</td>\n",
       "    </tr>\n",
       "    <tr>\n",
       "      <th>unique</th>\n",
       "      <td>NaN</td>\n",
       "      <td>NaN</td>\n",
       "      <td>NaN</td>\n",
       "      <td>NaN</td>\n",
       "      <td>NaN</td>\n",
       "      <td>11</td>\n",
       "      <td>NaN</td>\n",
       "      <td>NaN</td>\n",
       "      <td>NaN</td>\n",
       "      <td>NaN</td>\n",
       "    </tr>\n",
       "    <tr>\n",
       "      <th>top</th>\n",
       "      <td>NaN</td>\n",
       "      <td>NaN</td>\n",
       "      <td>NaN</td>\n",
       "      <td>NaN</td>\n",
       "      <td>NaN</td>\n",
       "      <td>1</td>\n",
       "      <td>NaN</td>\n",
       "      <td>NaN</td>\n",
       "      <td>NaN</td>\n",
       "      <td>NaN</td>\n",
       "    </tr>\n",
       "    <tr>\n",
       "      <th>freq</th>\n",
       "      <td>NaN</td>\n",
       "      <td>NaN</td>\n",
       "      <td>NaN</td>\n",
       "      <td>NaN</td>\n",
       "      <td>NaN</td>\n",
       "      <td>402</td>\n",
       "      <td>NaN</td>\n",
       "      <td>NaN</td>\n",
       "      <td>NaN</td>\n",
       "      <td>NaN</td>\n",
       "    </tr>\n",
       "    <tr>\n",
       "      <th>mean</th>\n",
       "      <td>4.417740</td>\n",
       "      <td>3.134478</td>\n",
       "      <td>3.207439</td>\n",
       "      <td>2.806867</td>\n",
       "      <td>3.216023</td>\n",
       "      <td>NaN</td>\n",
       "      <td>3.437768</td>\n",
       "      <td>2.866953</td>\n",
       "      <td>1.589413</td>\n",
       "      <td>2.689557</td>\n",
       "    </tr>\n",
       "    <tr>\n",
       "      <th>std</th>\n",
       "      <td>2.815741</td>\n",
       "      <td>3.051459</td>\n",
       "      <td>2.971913</td>\n",
       "      <td>2.855379</td>\n",
       "      <td>2.214300</td>\n",
       "      <td>NaN</td>\n",
       "      <td>2.438364</td>\n",
       "      <td>3.053634</td>\n",
       "      <td>1.715078</td>\n",
       "      <td>0.951273</td>\n",
       "    </tr>\n",
       "    <tr>\n",
       "      <th>min</th>\n",
       "      <td>1.000000</td>\n",
       "      <td>1.000000</td>\n",
       "      <td>1.000000</td>\n",
       "      <td>1.000000</td>\n",
       "      <td>1.000000</td>\n",
       "      <td>NaN</td>\n",
       "      <td>1.000000</td>\n",
       "      <td>1.000000</td>\n",
       "      <td>1.000000</td>\n",
       "      <td>2.000000</td>\n",
       "    </tr>\n",
       "    <tr>\n",
       "      <th>25%</th>\n",
       "      <td>2.000000</td>\n",
       "      <td>1.000000</td>\n",
       "      <td>1.000000</td>\n",
       "      <td>1.000000</td>\n",
       "      <td>2.000000</td>\n",
       "      <td>NaN</td>\n",
       "      <td>2.000000</td>\n",
       "      <td>1.000000</td>\n",
       "      <td>1.000000</td>\n",
       "      <td>2.000000</td>\n",
       "    </tr>\n",
       "    <tr>\n",
       "      <th>50%</th>\n",
       "      <td>4.000000</td>\n",
       "      <td>1.000000</td>\n",
       "      <td>1.000000</td>\n",
       "      <td>1.000000</td>\n",
       "      <td>2.000000</td>\n",
       "      <td>NaN</td>\n",
       "      <td>3.000000</td>\n",
       "      <td>1.000000</td>\n",
       "      <td>1.000000</td>\n",
       "      <td>2.000000</td>\n",
       "    </tr>\n",
       "    <tr>\n",
       "      <th>75%</th>\n",
       "      <td>6.000000</td>\n",
       "      <td>5.000000</td>\n",
       "      <td>5.000000</td>\n",
       "      <td>4.000000</td>\n",
       "      <td>4.000000</td>\n",
       "      <td>NaN</td>\n",
       "      <td>5.000000</td>\n",
       "      <td>4.000000</td>\n",
       "      <td>1.000000</td>\n",
       "      <td>4.000000</td>\n",
       "    </tr>\n",
       "    <tr>\n",
       "      <th>max</th>\n",
       "      <td>10.000000</td>\n",
       "      <td>10.000000</td>\n",
       "      <td>10.000000</td>\n",
       "      <td>10.000000</td>\n",
       "      <td>10.000000</td>\n",
       "      <td>NaN</td>\n",
       "      <td>10.000000</td>\n",
       "      <td>10.000000</td>\n",
       "      <td>10.000000</td>\n",
       "      <td>4.000000</td>\n",
       "    </tr>\n",
       "  </tbody>\n",
       "</table>\n",
       "</div>"
      ],
      "text/plain": [
       "        Clump_Thickness  Uniformity_of_Cell_Size  Uniformity_of_Cell_Shape  \\\n",
       "count        699.000000               699.000000                699.000000   \n",
       "unique              NaN                      NaN                       NaN   \n",
       "top                 NaN                      NaN                       NaN   \n",
       "freq                NaN                      NaN                       NaN   \n",
       "mean           4.417740                 3.134478                  3.207439   \n",
       "std            2.815741                 3.051459                  2.971913   \n",
       "min            1.000000                 1.000000                  1.000000   \n",
       "25%            2.000000                 1.000000                  1.000000   \n",
       "50%            4.000000                 1.000000                  1.000000   \n",
       "75%            6.000000                 5.000000                  5.000000   \n",
       "max           10.000000                10.000000                 10.000000   \n",
       "\n",
       "        Marginal_Adhesion  Single_Epithelial_CS Bare_Nucl  Bland_Chromatin  \\\n",
       "count          699.000000            699.000000       699       699.000000   \n",
       "unique                NaN                   NaN        11              NaN   \n",
       "top                   NaN                   NaN         1              NaN   \n",
       "freq                  NaN                   NaN       402              NaN   \n",
       "mean             2.806867              3.216023       NaN         3.437768   \n",
       "std              2.855379              2.214300       NaN         2.438364   \n",
       "min              1.000000              1.000000       NaN         1.000000   \n",
       "25%              1.000000              2.000000       NaN         2.000000   \n",
       "50%              1.000000              2.000000       NaN         3.000000   \n",
       "75%              4.000000              4.000000       NaN         5.000000   \n",
       "max             10.000000             10.000000       NaN        10.000000   \n",
       "\n",
       "        Normal_Nuclei     Mitoses       Class  \n",
       "count      699.000000  699.000000  699.000000  \n",
       "unique            NaN         NaN         NaN  \n",
       "top               NaN         NaN         NaN  \n",
       "freq              NaN         NaN         NaN  \n",
       "mean         2.866953    1.589413    2.689557  \n",
       "std          3.053634    1.715078    0.951273  \n",
       "min          1.000000    1.000000    2.000000  \n",
       "25%          1.000000    1.000000    2.000000  \n",
       "50%          1.000000    1.000000    2.000000  \n",
       "75%          4.000000    1.000000    4.000000  \n",
       "max         10.000000   10.000000    4.000000  "
      ]
     },
     "metadata": {},
     "execution_count": 6
    }
   ],
   "metadata": {}
  },
  {
   "cell_type": "code",
   "execution_count": 56,
   "source": [
    "pd.api.types.is_string_dtype(df['Bare_Nucl'])"
   ],
   "outputs": [
    {
     "output_type": "execute_result",
     "data": {
      "text/plain": [
       "True"
      ]
     },
     "metadata": {},
     "execution_count": 56
    }
   ],
   "metadata": {}
  },
  {
   "cell_type": "code",
   "execution_count": 7,
   "source": [
    "df['Bare_Nucl'].describe()"
   ],
   "outputs": [
    {
     "output_type": "execute_result",
     "data": {
      "text/plain": [
       "count     699\n",
       "unique     11\n",
       "top         1\n",
       "freq      402\n",
       "Name: Bare_Nucl, dtype: object"
      ]
     },
     "metadata": {},
     "execution_count": 7
    }
   ],
   "metadata": {}
  },
  {
   "cell_type": "markdown",
   "source": [
    "Identificando caracteres únicos"
   ],
   "metadata": {}
  },
  {
   "cell_type": "code",
   "execution_count": 8,
   "source": [
    "df['Bare_Nucl'].value_counts()"
   ],
   "outputs": [
    {
     "output_type": "execute_result",
     "data": {
      "text/plain": [
       "1     402\n",
       "10    132\n",
       "2      30\n",
       "5      30\n",
       "3      28\n",
       "8      21\n",
       "4      19\n",
       "?      16\n",
       "9       9\n",
       "7       8\n",
       "6       4\n",
       "Name: Bare_Nucl, dtype: int64"
      ]
     },
     "metadata": {},
     "execution_count": 8
    }
   ],
   "metadata": {}
  },
  {
   "cell_type": "markdown",
   "source": [
    "Eliminando instancias com caracteres únicos"
   ],
   "metadata": {}
  },
  {
   "cell_type": "code",
   "execution_count": 9,
   "source": [
    "\r\n",
    "df = df[df.Bare_Nucl != '?']"
   ],
   "outputs": [],
   "metadata": {}
  },
  {
   "cell_type": "code",
   "execution_count": 10,
   "source": [
    "df.Bare_Nucl = pd.to_numeric(df.Bare_Nucl, errors='coerce').astype(np.int64)"
   ],
   "outputs": [],
   "metadata": {}
  },
  {
   "cell_type": "code",
   "execution_count": 11,
   "source": [
    "df.Bare_Nucl.describe()"
   ],
   "outputs": [
    {
     "output_type": "execute_result",
     "data": {
      "text/plain": [
       "count    683.000000\n",
       "mean       3.544656\n",
       "std        3.643857\n",
       "min        1.000000\n",
       "25%        1.000000\n",
       "50%        1.000000\n",
       "75%        6.000000\n",
       "max       10.000000\n",
       "Name: Bare_Nucl, dtype: float64"
      ]
     },
     "metadata": {},
     "execution_count": 11
    }
   ],
   "metadata": {}
  },
  {
   "cell_type": "markdown",
   "source": [
    "Verificando a ocorrencia de valores faltantes."
   ],
   "metadata": {}
  },
  {
   "cell_type": "code",
   "execution_count": 12,
   "source": [
    "df.isnull().sum()"
   ],
   "outputs": [
    {
     "output_type": "execute_result",
     "data": {
      "text/plain": [
       "Clump_Thickness             0\n",
       "Uniformity_of_Cell_Size     0\n",
       "Uniformity_of_Cell_Shape    0\n",
       "Marginal_Adhesion           0\n",
       "Single_Epithelial_CS        0\n",
       "Bare_Nucl                   0\n",
       "Bland_Chromatin             0\n",
       "Normal_Nuclei               0\n",
       "Mitoses                     0\n",
       "Class                       0\n",
       "dtype: int64"
      ]
     },
     "metadata": {},
     "execution_count": 12
    }
   ],
   "metadata": {}
  },
  {
   "cell_type": "code",
   "execution_count": 66,
   "source": [
    "analyze({'Atb_1': df['Clump_Thickness'], 'Atb_2': df['Uniformity_of_Cell_Size'], 'Atb_3': df['Uniformity_of_Cell_Shape'], \r\n",
    "         'Atb_4':df['Marginal_Adhesion'], 'Atb_5':df['Single_Epithelial_CS'], 'Atb_6':df['Bare_Nucl'], \r\n",
    "         'Atb_7':df['Bland_Chromatin'], 'Atb_8': df['Normal_Nuclei'], 'Atb_9': df['Mitoses']})"
   ],
   "outputs": [
    {
     "output_type": "display_data",
     "data": {
      "image/png": "[encoded data removed]",
      "text/plain": [
       "<Figure size 828x360 with 3 Axes>"
      ]
     },
     "metadata": {
      "needs_background": "light"
     }
    },
    {
     "output_type": "stream",
     "name": "stdout",
     "text": [
      "\n",
      "\n",
      "Overall Statistics\n",
      "------------------\n",
      "\n",
      "Number of Groups =  9\n",
      "Total            =  6147\n",
      "Grand Mean       =  3.1484\n",
      "Pooled Std Dev   =  2.8093\n",
      "Grand Median     =  1.0000\n",
      "\n",
      "\n",
      "Group Statistics\n",
      "----------------\n",
      "\n",
      "n             Mean          Std Dev       Min           Median        Max           Group         \n",
      "--------------------------------------------------------------------------------------------------\n",
      "683            4.4422        2.8208        1.0000        4.0000        10.0000      Atb_1         \n",
      "683            3.1508        3.0651        1.0000        1.0000        10.0000      Atb_2         \n",
      "683            3.2152        2.9886        1.0000        1.0000        10.0000      Atb_3         \n",
      "683            2.8302        2.8646        1.0000        1.0000        10.0000      Atb_4         \n",
      "683            3.2343        2.2231        1.0000        2.0000        10.0000      Atb_5         \n",
      "683            3.5447        3.6439        1.0000        1.0000        10.0000      Atb_6         \n",
      "683            3.4451        2.4497        1.0000        3.0000        10.0000      Atb_7         \n",
      "683            2.8697        3.0527        1.0000        1.0000        10.0000      Atb_8         \n",
      "683            1.6032        1.7327        1.0000        1.0000        10.0000      Atb_9         \n",
      "\n",
      "\n",
      "Levene Test\n",
      "-----------\n",
      "\n",
      "alpha   =  0.0500\n",
      "W value =  32.6990\n",
      "p value =  0.0000\n",
      "\n",
      "HA: Variances are not equal\n",
      "\n",
      "\n",
      "\n",
      "Kruskal-Wallis\n",
      "--------------\n",
      "\n",
      "alpha   =  0.0500\n",
      "h value =  780.0649\n",
      "p value =  0.0000\n",
      "\n",
      "HA: Group means are not matched\n",
      "\n"
     ]
    }
   ],
   "metadata": {}
  },
  {
   "cell_type": "markdown",
   "source": [
    "Retirando do conjunto a coluna classe (1 - Benigno e 2- Maligno)"
   ],
   "metadata": {}
  },
  {
   "cell_type": "code",
   "execution_count": 13,
   "source": [
    "df_t = df.drop('Class', axis=1)"
   ],
   "outputs": [],
   "metadata": {}
  },
  {
   "cell_type": "code",
   "execution_count": 14,
   "source": [
    "from sklearn.decomposition import PCA"
   ],
   "outputs": [],
   "metadata": {}
  },
  {
   "cell_type": "code",
   "execution_count": 15,
   "source": [
    "pca = PCA(2)"
   ],
   "outputs": [],
   "metadata": {}
  },
  {
   "cell_type": "code",
   "execution_count": 16,
   "source": [
    "df_trans = pca.fit_transform(df_t)"
   ],
   "outputs": [],
   "metadata": {}
  },
  {
   "cell_type": "code",
   "execution_count": 17,
   "source": [
    "df_trans.shape"
   ],
   "outputs": [
    {
     "output_type": "execute_result",
     "data": {
      "text/plain": [
       "(683, 2)"
      ]
     },
     "metadata": {},
     "execution_count": 17
    }
   ],
   "metadata": {}
  },
  {
   "cell_type": "code",
   "execution_count": 18,
   "source": [
    "from sklearn.cluster import KMeans"
   ],
   "outputs": [],
   "metadata": {}
  },
  {
   "cell_type": "code",
   "execution_count": 329,
   "source": [
    "X = df_t.to_numpy()"
   ],
   "outputs": [],
   "metadata": {}
  },
  {
   "cell_type": "markdown",
   "source": [
    "Método K-means para 2 clusters."
   ],
   "metadata": {}
  },
  {
   "cell_type": "code",
   "execution_count": 381,
   "source": [
    "kmeans_2 = KMeans(n_clusters=2).fit(X)"
   ],
   "outputs": [],
   "metadata": {}
  },
  {
   "cell_type": "code",
   "execution_count": 224,
   "source": [
    "centros = kmeans_2.cluster_centers_"
   ],
   "outputs": [],
   "metadata": {}
  },
  {
   "cell_type": "code",
   "execution_count": 225,
   "source": [
    "df_c = pd.DataFrame(np.reshape(centros,(centros.shape[1],centros.shape[0])), columns=['Cluster_1', 'Cluster_2'], index = df_t.columns)"
   ],
   "outputs": [],
   "metadata": {}
  },
  {
   "cell_type": "markdown",
   "source": [
    "Plotando Centros por Clusters"
   ],
   "metadata": {}
  },
  {
   "cell_type": "code",
   "execution_count": 286,
   "source": [
    "df_c.plot.bar(rot=90, figsize=(15,8), colormap='Spectral', grid=False)"
   ],
   "outputs": [
    {
     "output_type": "execute_result",
     "data": {
      "text/plain": [
       "<AxesSubplot:>"
      ]
     },
     "metadata": {},
     "execution_count": 286
    },
    {
     "output_type": "display_data",
     "data": {
      "image/png": "[encoded data removed]",
      "text/plain": [
       "<Figure size 1080x576 with 1 Axes>"
      ]
     },
     "metadata": {
      "needs_background": "light"
     }
    }
   ],
   "metadata": {}
  },
  {
   "cell_type": "markdown",
   "source": [
    "K-means - 3 clusters"
   ],
   "metadata": {}
  },
  {
   "cell_type": "code",
   "execution_count": 155,
   "source": [
    "kmeans_3 = KMeans(n_clusters=3, random_state=0).fit(X)"
   ],
   "outputs": [],
   "metadata": {}
  },
  {
   "cell_type": "code",
   "execution_count": 157,
   "source": [
    "centros_3 = np.reshape(kmeans_3.cluster_centers_, (kmeans_3.cluster_centers_.shape[1], kmeans_3.cluster_centers_.shape[0]))"
   ],
   "outputs": [],
   "metadata": {}
  },
  {
   "cell_type": "code",
   "execution_count": 184,
   "source": [
    "centros_3[:,1]"
   ],
   "outputs": [
    {
     "output_type": "execute_result",
     "data": {
      "text/plain": [
       "array([4.73043478, 4.15652174, 3.89565217, 8.37301587, 6.50793651,\n",
       "       7.71428571, 1.25113122, 2.06108597, 1.22171946])"
      ]
     },
     "metadata": {},
     "execution_count": 184
    }
   ],
   "metadata": {}
  },
  {
   "cell_type": "code",
   "execution_count": 219,
   "source": [
    "barWidth = 0.25\r\n",
    "br1 = np.arange(len(df_t.columns))\r\n",
    "br2 = [x + barWidth for x in br1]\r\n",
    "br3 = [x + barWidth for x in br2]\r\n",
    "\r\n",
    "plt.figure(figsize=(8, 6), dpi=80)\r\n",
    "\r\n",
    "plt.bar(br1, centros_3[:,0], color = 'darkturquoise', width = barWidth, edgecolor ='dimgray', label ='Cluster 1')\r\n",
    "plt.bar(br2, centros_3[:,1], color = 'indigo', width = barWidth, edgecolor ='dimgray', label ='Cluster 2')\r\n",
    "plt.bar(br3, centros_3[:,2], color = 'royalblue', width = barWidth, edgecolor ='dimgray', label ='Cluster 3')\r\n",
    " \r\n",
    "# Adding Xticks\r\n",
    "#plt.xlabel('Branch', fontweight ='bold', fontsize = 15)\r\n",
    "#plt.ylabel('Students passed', fontweight ='bold', fontsize = 15)\r\n",
    "plt.xticks([r + barWidth for r in range(len(df_t.columns))], df_t.columns, rotation=90)\r\n",
    "plt.legend()\r\n",
    "plt.tight_layout()"
   ],
   "outputs": [
    {
     "output_type": "display_data",
     "data": {
      "image/png": "[encoded data removed]",
      "text/plain": [
       "<Figure size 640x480 with 1 Axes>"
      ]
     },
     "metadata": {
      "needs_background": "light"
     }
    }
   ],
   "metadata": {}
  },
  {
   "cell_type": "markdown",
   "source": [
    "K menas - 4 clusters"
   ],
   "metadata": {}
  },
  {
   "cell_type": "code",
   "execution_count": 238,
   "source": [
    "kmeans_4 = KMeans(n_clusters=4).fit(X)"
   ],
   "outputs": [],
   "metadata": {}
  },
  {
   "cell_type": "code",
   "execution_count": 260,
   "source": [
    "centros_4 = np.reshape(kmeans_4.cluster_centers_, (kmeans_4.cluster_centers_.shape[1], kmeans_4.cluster_centers_.shape[0]))"
   ],
   "outputs": [],
   "metadata": {}
  },
  {
   "cell_type": "code",
   "execution_count": 265,
   "source": [
    "centros_4[:,0]"
   ],
   "outputs": [
    {
     "output_type": "execute_result",
     "data": {
      "text/plain": [
       "array([2.96162528, 2.05191874, 1.07900677, 7.81012658, 7.82278481,\n",
       "       6.89230769, 5.47692308, 4.84375   , 9.27083333])"
      ]
     },
     "metadata": {},
     "execution_count": 265
    }
   ],
   "metadata": {}
  },
  {
   "cell_type": "code",
   "execution_count": 379,
   "source": [
    "tic = np.arange(len(df_t.columns))\r\n",
    "plt.figure(figsize=(10, 8), dpi=80)\r\n",
    "w = 0\r\n",
    "#color = {1: 'darkturquoise', 2: 'indigo', 3: 'royalblue', 4: 'mediumorchid'}\r\n",
    "for n in range(centros_4.shape[1]):\r\n",
    "    plt.bar(tic + w, centros_4[:,n], color = color[n+1], width = 0.20, edgecolor ='black', label= 'Cluster ' + str(n+1) )\r\n",
    "    w = w + 0.20\r\n",
    "#plt.bar(tic + 0.25, centros_4[:,1], color =  'indigo', width = 0.25, edgecolor ='dimgray')\r\n",
    "#plt.bar(tic + 0.50, centros_4[:,2], color = 'royalblue', width = 0.25, edgecolor ='dimgray')\r\n",
    "#plt.bar(tic + 0.75, centros_4[:,3], color = 'mediumorchid', width = 0.25, edgecolor ='dimgray')\r\n",
    "plt.xticks(tic + 0.30, df_t.columns, rotation=90)\r\n",
    "plt.legend()\r\n",
    "plt.tight_layout()"
   ],
   "outputs": [
    {
     "output_type": "display_data",
     "data": {
      "image/png": "[encoded data removed]",
      "text/plain": [
       "<Figure size 800x640 with 1 Axes>"
      ]
     },
     "metadata": {
      "needs_background": "light"
     }
    }
   ],
   "metadata": {}
  },
  {
   "cell_type": "code",
   "execution_count": 305,
   "source": [
    "sse = {}\r\n",
    "for k in range(1, 20):\r\n",
    "    kmeans = KMeans(n_clusters=k).fit(X)\r\n",
    "    sse[k] = kmeans.inertia_"
   ],
   "outputs": [],
   "metadata": {}
  },
  {
   "cell_type": "markdown",
   "source": [
    "Curva Cotovelo (elbow curve) - Verifica o numero otimo de clusters pela soma da do quadrado das distancias entre os pontos da amostra até o centro do agruamento mais próximo."
   ],
   "metadata": {}
  },
  {
   "cell_type": "code",
   "execution_count": 309,
   "source": [
    "plt.scatter(list(sse.keys()), list(sse.values()))\r\n",
    "plt.grid(True)\r\n",
    "plt.xticks(range(0,20,2))\r\n",
    "plt.xlabel(\"Clusters\")\r\n",
    "plt.ylabel(\"SQ\")"
   ],
   "outputs": [
    {
     "output_type": "execute_result",
     "data": {
      "text/plain": [
       "Text(0, 0.5, 'SQ')"
      ]
     },
     "metadata": {},
     "execution_count": 309
    },
    {
     "output_type": "display_data",
     "data": {
      "image/png": "[encoded data removed]",
      "text/plain": [
       "<Figure size 432x288 with 1 Axes>"
      ]
     },
     "metadata": {
      "needs_background": "light"
     }
    }
   ],
   "metadata": {}
  },
  {
   "cell_type": "markdown",
   "source": [
    "Visualizando os agrupamentos"
   ],
   "metadata": {}
  },
  {
   "cell_type": "markdown",
   "source": [
    "k = 2"
   ],
   "metadata": {}
  },
  {
   "cell_type": "code",
   "execution_count": 19,
   "source": [
    "kmeans_2t = KMeans(n_clusters=2)\r\n",
    "labels_2 = kmeans_2t.fit_predict(df_trans)\r\n",
    "centroides2 = kmeans_2t.cluster_centers_"
   ],
   "outputs": [],
   "metadata": {}
  },
  {
   "cell_type": "code",
   "execution_count": 20,
   "source": [
    "np.unique(labels_2)"
   ],
   "outputs": [
    {
     "output_type": "execute_result",
     "data": {
      "text/plain": [
       "array([0, 1])"
      ]
     },
     "metadata": {},
     "execution_count": 20
    }
   ],
   "metadata": {}
  },
  {
   "cell_type": "code",
   "execution_count": 21,
   "source": [
    "filtered_label0 = df_trans[labels_2 == 0]"
   ],
   "outputs": [],
   "metadata": {}
  },
  {
   "cell_type": "code",
   "execution_count": 22,
   "source": [
    "filtered_label1 = df_trans[labels_2 == 1]"
   ],
   "outputs": [],
   "metadata": {}
  },
  {
   "cell_type": "code",
   "execution_count": 23,
   "source": [
    "plt.scatter(filtered_label0[:,0], filtered_label0[:,1])\r\n",
    "plt.scatter(filtered_label1[:,0], filtered_label1[:,1])\r\n",
    "plt.scatter(centroides2[:,0], centroides2[:,1], s=50, color='black')\r\n",
    "plt.tight_layout()"
   ],
   "outputs": [
    {
     "output_type": "display_data",
     "data": {
      "image/png": "[encoded data removed]",
      "text/plain": [
       "<Figure size 432x288 with 1 Axes>"
      ]
     },
     "metadata": {
      "needs_background": "light"
     }
    }
   ],
   "metadata": {}
  },
  {
   "cell_type": "markdown",
   "source": [
    "K = 3"
   ],
   "metadata": {}
  },
  {
   "cell_type": "code",
   "execution_count": 25,
   "source": [
    "kmeans_3t = KMeans(n_clusters=3)\r\n",
    "labels_3 = kmeans_3t.fit_predict(df_trans)\r\n",
    "centroides3 = kmeans_3t.cluster_centers_"
   ],
   "outputs": [],
   "metadata": {}
  },
  {
   "cell_type": "code",
   "execution_count": 364,
   "source": [
    "#filtered_label30 = df_trans[labels_3 == 0]\r\n",
    "#filtered_label31 = df_trans[labels_3 == 1]\r\n",
    "#filtered_label32 = df_trans[labels_3 == 2]"
   ],
   "outputs": [],
   "metadata": {}
  },
  {
   "cell_type": "code",
   "execution_count": 29,
   "source": [
    "ul = np.unique(labels_3)\r\n",
    "for i in ul:\r\n",
    "    plt.scatter(df_trans[labels_3 == i , 0] , df_trans[labels_3 == i , 1] , label = i, color = color[i+1])\r\n",
    "plt.scatter(centroides3[:,0], centroides3[:,1], s=50, color='red')\r\n",
    "plt.tight_layout()  "
   ],
   "outputs": [
    {
     "output_type": "display_data",
     "data": {
      "image/png": "[encoded data removed]",
      "text/plain": [
       "<Figure size 432x288 with 1 Axes>"
      ]
     },
     "metadata": {
      "needs_background": "light"
     }
    }
   ],
   "metadata": {}
  },
  {
   "cell_type": "code",
   "execution_count": 30,
   "source": [
    "kmeans_4t = KMeans(n_clusters=4)\r\n",
    "labels_4 = kmeans_4t.fit_predict(df_trans)\r\n",
    "centroides4 = kmeans_4t.cluster_centers_"
   ],
   "outputs": [],
   "metadata": {}
  },
  {
   "cell_type": "code",
   "execution_count": 32,
   "source": [
    "ul = np.unique(labels_4)\r\n",
    "for i in ul:\r\n",
    "    plt.scatter(df_trans[labels_4 == i , 0] , df_trans[labels_4 == i , 1] , label = i, color = color[i+1])\r\n",
    "plt.scatter(centroides4[:,0], centroides4[:,1], s=50, color='red')\r\n",
    "plt.tight_layout()   "
   ],
   "outputs": [
    {
     "output_type": "display_data",
     "data": {
      "image/png": "[encoded data removed]",
      "text/plain": [
       "<Figure size 432x288 with 1 Axes>"
      ]
     },
     "metadata": {
      "needs_background": "light"
     }
    }
   ],
   "metadata": {}
  },
  {
   "cell_type": "code",
   "execution_count": null,
   "source": [],
   "outputs": [],
   "metadata": {}
  }
 ],
 "metadata": {
  "orig_nbformat": 4,
  "language_info": {
   "name": "python",
   "version": "3.9.7",
   "mimetype": "text/x-python",
   "codemirror_mode": {
    "name": "ipython",
    "version": 3
   },
   "pygments_lexer": "ipython3",
   "nbconvert_exporter": "python",
   "file_extension": ".py"
  },
  "kernelspec": {
   "name": "python3",
   "display_name": "Python 3.9.7 64-bit"
  },
  "interpreter": {
   "hash": "789f696217030aad119f4d18151ecaad75983949809f38c2f6d57fda799d269c"
  }
 },
 "nbformat": 4,
 "nbformat_minor": 2
}